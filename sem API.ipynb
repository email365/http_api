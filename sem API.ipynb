{
 "cells": [
  {
   "cell_type": "code",
   "execution_count": 6,
   "metadata": {},
   "outputs": [],
   "source": [
    "import urllib.request\n",
    "import urllib.parse\n",
    "import urllib\n",
    "import json\n",
    "import time\n",
    "import datetime"
   ]
  },
  {
   "cell_type": "code",
   "execution_count": null,
   "metadata": {},
   "outputs": [],
   "source": [
    "start_date = time.strftime(\"%Y%m%d\", time.localtime())\n",
    "today = datetime.date.today()\n",
    "yesterday = today - datetime.timedelta(days=1)\n",
    "fifteenago = today - datetime.timedelta(days=7)\n",
    "end, start = str(yesterday).replace(\"-\", \"\"), str(fifteenago).replace(\"-\", \"\")\n",
    "base_url = \"https://api.baidu.com/json/tongji/v1/ReportService/getSiteList\"\n",
    "body = {\"header\": {\"account_type\": 1, \"password\": \"\", \"token\": \"\",\n",
    "                   \"username\": \"\"},\n",
    "        \"body\": {\"siteId\": , \"method\": \"visit/district/a\", \"start_date\": start, \"end_date\": end,\n",
    "                 \"metrics\": \"pv_count,visitor_count,avg_visit_time\"}} \n",
    "data = bytes(json.dumps(body), 'utf8')\n",
    "req = urllib.request.Request(base_url, data)\n",
    "response = urllib.request.urlopen(req)\n",
    "the_page = response.read()\n",
    "result=json.loads(the_page.decode(\"utf-8\"))\n",
    "base=result[\"body\"][\"data\"][0][\"result\"][\"items\"]\n",
    "source=[]\n",
    "for item in base[0]:\n",
    "    source.append(item[0]['name'])\n",
    "count=0\n",
    "detail=[]\n",
    "for item in base[1]:\n",
    "    tojson={}\n",
    "    tojson['name']=source[count]\n",
    "    tojson['pv_count']=item[0]\n",
    "    tojson['pv_ratio']=item[1]\n",
    "    tojson['visitor_count']=item[2]\n",
    "    count=count+1\n",
    "    detail.append(tojson)"
   ]
  }
 ],
 "metadata": {
  "kernelspec": {
   "display_name": "Python 3",
   "language": "python",
   "name": "python3"
  },
  "language_info": {
   "codemirror_mode": {
    "name": "ipython",
    "version": 3
   },
   "file_extension": ".py",
   "mimetype": "text/x-python",
   "name": "python",
   "nbconvert_exporter": "python",
   "pygments_lexer": "ipython3",
   "version": "3.6.3"
  }
 },
 "nbformat": 4,
 "nbformat_minor": 2
}
