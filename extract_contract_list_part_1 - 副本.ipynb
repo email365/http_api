{
 "cells": [
  {
   "cell_type": "code",
   "execution_count": 1,
   "metadata": {},
   "outputs": [],
   "source": [
    "import requests\n",
    "import json\n",
    "from PIL import Image\n",
    "from io import BytesIO\n",
    "import re\n",
    "import demjson\n",
    "import pandas as pd\n",
    "from pandas import DataFrame\n",
    "from datetime import datetime, timedelta , date\n",
    "import numpy as np\n",
    "import ast\n",
    "from pandas.io.json import json_normalize"
   ]
  },
  {
   "cell_type": "code",
   "execution_count": 2,
   "metadata": {},
   "outputs": [],
   "source": [
    "# r = requests.post(\"http://192.168.1.30:88/SYSA/mobilephone/getyzm.asp?serialnum=616EA64CD6A65AA\")\n",
    "# print(r.status_code, r.reason)\n",
    "# i = Image.open(BytesIO(r.content))"
   ]
  },
  {
   "cell_type": "code",
   "execution_count": 3,
   "metadata": {},
   "outputs": [],
   "source": [
    "rowsPerPage = 100000\n",
    "\n",
    "today = date.today()\n",
    "\n",
    "yesterday = date.today() - timedelta(1)\n",
    "yesterday = yesterday.strftime('%Y-%m-%d')\n",
    "\n",
    "start_date = \"2018-05-26\"\n",
    "\n",
    "start_date, end_date = yesterday, yesterday"
   ]
  },
  {
   "cell_type": "code",
   "execution_count": 4,
   "metadata": {
    "scrolled": true
   },
   "outputs": [
    {
     "data": {
      "text/plain": [
       "'{header:{status:0,message:\"OK\",language:\"cn\",session:\"e41a0c259979e294638da27162a3d0e81d2936a2b4485f6d18a926714f1e18b228b250cd00811a94ad5fa748627efba6ebfdc00c5582a0ee\"},body:{action:\"sys\",model:\"init\",sys:{info:{floatbit:2,moneybit:2,disbit:2,dismax:1,hlbit:2,mxbit:500,remind:300,isopenrecord:false,ratebit:300,uniqueName:\"cdb90870289093b61cc89ae72f786c74\"},trees:{nodes:[{id:\"SystemManage\",action:\"_none\",text:\"系统操作\",nodes:[{id:\"about\",ico:\"about\",action:\"_client\",text:\"关于\",url:\"100103\",nodes:[],deep:0}],deep:0}],deep:0},homeurl:\"mobilephone/home2.asp\",exiturl:\"mobilephone/logout.asp\",helpurl:\"mobilephone/cshelp/index.html\",adseturl:\"mobilephone/systemmanage/setadsearchfields.asp\",uploadsmsurl:\"mobilephone/uploadsms.asp\",uploadcallurl:\"mobilephone/uploadcall.asp?mode=mobile\",gpssaveurl:\"mobilephone/salesmanage/gps/add.asp\",uploadgpsmap:\"mobilephone/upload.asp?userid={@session}\",data:\"{\\\\\"dhmanage\\\\\":1,\\\\\"savephone\\\\\":0}\"}}}'"
      ]
     },
     "execution_count": 4,
     "metadata": {},
     "output_type": "execute_result"
    }
   ],
   "source": [
    "rndcode = \"\"\n",
    "user = \"pig\"\n",
    "password = \"chimo123\"\n",
    "serialnum = \"616EA64CD6A65AA\"\n",
    "\n",
    "data ='{session:\"******\",datas:[{id:\"user\",val:\"txt:%s\"},{id:\"password\",val:\"txt:%s\"},{id:\"serialnum\",val:\"%s\"},{id:\"rndcode\",val:\"%s\"}]}'%(user,password,serialnum,rndcode)\n",
    "        \n",
    "headers = {\"Content-Type\":\"application/zsml;charset=gb2312\"}\n",
    "res = requests.post(\"http://192.168.1.30:88/SYSA/mobilephone/login.asp\",data=data,headers=headers)\n",
    "# print(res.status_code)\n",
    "ses_text = res.text\n",
    "ses_text"
   ]
  },
  {
   "cell_type": "code",
   "execution_count": 5,
   "metadata": {},
   "outputs": [
    {
     "data": {
      "text/plain": [
       "'e41a0c259979e294638da27162a3d0e81d2936a2b4485f6d18a926714f1e18b228b250cd00811a94ad5fa748627efba6ebfdc00c5582a0ee'"
      ]
     },
     "execution_count": 5,
     "metadata": {},
     "output_type": "execute_result"
    }
   ],
   "source": [
    "t = re.search('(?:session:)(.*)(?=},body)',ses_text).group()[9:-1]\n",
    "t"
   ]
  },
  {
   "cell_type": "code",
   "execution_count": 6,
   "metadata": {},
   "outputs": [],
   "source": [
    "headers = {\"Content-Type\":\"application/zsml;charset=gb2312\"}\n",
    "data = '{session:\"%s\",\\\n",
    "        cmdkey:\"refresh\",\\\n",
    "        datas:[{id:\"pagesize\",val:\"%s\"},\\\n",
    "        {id:\"dateQD_0\",val:\"%s\"},\\\n",
    "        {id:\"dateQD_1\",val:\"%s\"}\\\n",
    "        ]}'%(t,rowsPerPage,start_date,end_date)\n",
    "# data"
   ]
  },
  {
   "cell_type": "code",
   "execution_count": 7,
   "metadata": {
    "scrolled": false
   },
   "outputs": [
    {
     "name": "stdout",
     "output_type": "stream",
     "text": [
      "Wall time: 797 ms\n"
     ]
    }
   ],
   "source": [
    "%%time\n",
    "session = requests.Session()\n",
    "s = session.post(\"http://192.168.1.30:88/SYSA/mobilephone/salesmanage/contract/billlist.asp\",data=data,headers=headers)\n",
    "org_text = s.text"
   ]
  },
  {
   "cell_type": "code",
   "execution_count": 8,
   "metadata": {
    "scrolled": true
   },
   "outputs": [
    {
     "data": {
      "text/plain": [
       "str"
      ]
     },
     "execution_count": 8,
     "metadata": {},
     "output_type": "execute_result"
    }
   ],
   "source": [
    "type(org_text)"
   ]
  },
  {
   "cell_type": "code",
   "execution_count": 9,
   "metadata": {},
   "outputs": [],
   "source": [
    "# org_text"
   ]
  },
  {
   "cell_type": "code",
   "execution_count": 10,
   "metadata": {},
   "outputs": [
    {
     "name": "stdout",
     "output_type": "stream",
     "text": [
      "Wall time: 110 ms\n"
     ]
    }
   ],
   "source": [
    "%%time\n",
    "json_obj = demjson.decode(org_text)\n",
    "# print(json_obj)"
   ]
  },
  {
   "cell_type": "code",
   "execution_count": 11,
   "metadata": {},
   "outputs": [
    {
     "data": {
      "text/plain": [
       "dict"
      ]
     },
     "execution_count": 11,
     "metadata": {},
     "output_type": "execute_result"
    }
   ],
   "source": [
    "type(json_obj)"
   ]
  },
  {
   "cell_type": "code",
   "execution_count": 12,
   "metadata": {},
   "outputs": [],
   "source": [
    "col_dict = json_obj['body']['source']['table']['cols']\n",
    "# col_dict"
   ]
  },
  {
   "cell_type": "code",
   "execution_count": 13,
   "metadata": {},
   "outputs": [],
   "source": [
    "col_name = []\n",
    "for i in col_dict:\n",
    "    c = i['id']\n",
    "    col_name.append(c)\n",
    "# col_name"
   ]
  },
  {
   "cell_type": "code",
   "execution_count": 14,
   "metadata": {},
   "outputs": [],
   "source": [
    "row_dict = json_obj['body']['source']['table']['rows']\n",
    "# print(row_dict)"
   ]
  },
  {
   "cell_type": "code",
   "execution_count": 15,
   "metadata": {},
   "outputs": [
    {
     "data": {
      "text/plain": [
       "(36, 16)"
      ]
     },
     "execution_count": 15,
     "metadata": {},
     "output_type": "execute_result"
    }
   ],
   "source": [
    "contract_list = pd.DataFrame(row_dict, columns = col_name)\n",
    "contract_list.shape"
   ]
  },
  {
   "cell_type": "code",
   "execution_count": 16,
   "metadata": {},
   "outputs": [],
   "source": [
    "# contract_list.to_csv('contract_list.csv',encoding = 'utf-8',index=False)"
   ]
  },
  {
   "cell_type": "code",
   "execution_count": 17,
   "metadata": {},
   "outputs": [],
   "source": [
    "# contract_list.head(2)"
   ]
  },
  {
   "cell_type": "code",
   "execution_count": 18,
   "metadata": {},
   "outputs": [],
   "source": [
    "# contract_list"
   ]
  },
  {
   "cell_type": "code",
   "execution_count": 19,
   "metadata": {},
   "outputs": [
    {
     "data": {
      "text/plain": [
       "count       36.00000\n",
       "mean     41491.50000\n",
       "std         18.16197\n",
       "min      41466.00000\n",
       "25%      41475.75000\n",
       "50%      41487.50000\n",
       "75%      41507.25000\n",
       "max      41523.00000\n",
       "Name: ord, dtype: float64"
      ]
     },
     "execution_count": 19,
     "metadata": {},
     "output_type": "execute_result"
    }
   ],
   "source": [
    "contract_list.ord = contract_list.ord.astype(int)\n",
    "contract_list.ord.describe()"
   ]
  },
  {
   "cell_type": "markdown",
   "metadata": {},
   "source": [
    "# contract details"
   ]
  },
  {
   "cell_type": "code",
   "execution_count": 20,
   "metadata": {
    "scrolled": true
   },
   "outputs": [],
   "source": [
    "# for i in range(contract_list.ord.min(), contract_list.ord.max()):\n",
    "#     print(i)"
   ]
  },
  {
   "cell_type": "code",
   "execution_count": null,
   "metadata": {
    "scrolled": true
   },
   "outputs": [],
   "source": [
    "%%time\n",
    "json_contract_detail_list = []\n",
    "for i in range(contract_list.ord.min(), contract_list.ord.max()):\n",
    "    ord_num = i\n",
    "    headers = {\"Content-Type\":\"application/zsml;charset=gb2312\"}\n",
    "    data = '{session:\"%s\",datas:[{id:\"ord\",val:\"%s\"}]}'%(t,ord_num)\n",
    "    s = session.post(\"http://192.168.1.30:88/SYSA/mobilephone/salesmanage/contract/billservice.asp\",data=data,headers=headers)\n",
    "    contract_detail = s.text\n",
    "    json_contract_detail = demjson.decode(contract_detail)\n",
    "#     print(json_contract_detail['body']['model'])\n",
    "    if json_contract_detail['body']['model'] == \"message\":\n",
    "        None\n",
    "    else:\n",
    "        json_contract_detail_list.append(json_contract_detail)\n",
    "    # contract_detail"
   ]
  },
  {
   "cell_type": "code",
   "execution_count": null,
   "metadata": {},
   "outputs": [],
   "source": [
    "len(json_contract_detail_list)"
   ]
  },
  {
   "cell_type": "code",
   "execution_count": null,
   "metadata": {
    "scrolled": true
   },
   "outputs": [],
   "source": [
    "# json_contract_detail"
   ]
  },
  {
   "cell_type": "code",
   "execution_count": null,
   "metadata": {},
   "outputs": [],
   "source": [
    "def make_row(json_object):\n",
    "    table_dicts = {}\n",
    "    for item in json_object['body']['bill']['groups']:\n",
    "        for field in item['fields']:\n",
    "            if set((\"text\", \"caption\")) <= set(field):\n",
    "                table_dicts[field['caption']]=field['text']\n",
    "            elif 'text' not in field:\n",
    "                if 'caption' not in field:\n",
    "                    None\n",
    "                else:\n",
    "                    table_dicts[field['caption']]=None\n",
    "    return table_dicts"
   ]
  },
  {
   "cell_type": "code",
   "execution_count": null,
   "metadata": {
    "scrolled": true
   },
   "outputs": [],
   "source": [
    "j_list = []\n",
    "for json_contract_detail in json_contract_detail_list:\n",
    "    dict_data = make_row(json_contract_detail)\n",
    "    columns = list(dict_data.keys())\n",
    "    values = list(dict_data.values())\n",
    "    arr_len = len(values)\n",
    "    df_temp = pd.DataFrame(np.array(values, dtype=object).reshape(1, arr_len), columns=columns)\n",
    "    j_list.append(df_temp)\n",
    "# j_list"
   ]
  },
  {
   "cell_type": "code",
   "execution_count": null,
   "metadata": {},
   "outputs": [],
   "source": [
    "len(j_list)"
   ]
  },
  {
   "cell_type": "code",
   "execution_count": null,
   "metadata": {},
   "outputs": [],
   "source": [
    "dfs = pd.concat(j_list,ignore_index = True)\n",
    "# dfs"
   ]
  },
  {
   "cell_type": "code",
   "execution_count": null,
   "metadata": {},
   "outputs": [],
   "source": [
    "dfs.to_csv('CRM_API_当日合同明细1.csv',encoding = 'gbk')"
   ]
  }
 ],
 "metadata": {
  "kernelspec": {
   "display_name": "Python 3",
   "language": "python",
   "name": "python3"
  },
  "language_info": {
   "codemirror_mode": {
    "name": "ipython",
    "version": 3
   },
   "file_extension": ".py",
   "mimetype": "text/x-python",
   "name": "python",
   "nbconvert_exporter": "python",
   "pygments_lexer": "ipython3",
   "version": "3.6.4"
  }
 },
 "nbformat": 4,
 "nbformat_minor": 2
}
